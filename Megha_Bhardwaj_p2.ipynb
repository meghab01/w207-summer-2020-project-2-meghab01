{
 "cells": [
  {
   "cell_type": "markdown",
   "metadata": {
    "colab_type": "text",
    "id": "6t55qCf3Fsxa"
   },
   "source": [
    "# Project 2: Topic Classification"
   ]
  },
  {
   "cell_type": "markdown",
   "metadata": {
    "colab_type": "text",
    "id": "j9-9G8z4Fsxd"
   },
   "source": [
    "In this project, you'll work with text data from newsgroup postings on a variety of topics. You'll train classifiers to distinguish between the topics based on the text of the posts. Whereas with digit classification, the input is relatively dense: a 28x28 matrix of pixels, many of which are non-zero, here we'll represent each document with a \"bag-of-words\" model. As you'll see, this makes the feature representation quite sparse -- only a few words of the total vocabulary are active in any given document. The bag-of-words assumption here is that the label depends only on the words; their order is not important.\n",
    "\n",
    "The SK-learn documentation on feature extraction will prove useful:\n",
    "http://scikit-learn.org/stable/modules/feature_extraction.html\n",
    "\n",
    "Each problem can be addressed succinctly with the included packages -- please don't add any more. Grading will be based on writing clean, commented code, along with a few short answers.\n",
    "\n",
    "As always, you're welcome to work on the project in groups and discuss ideas on the course wall, but please prepare your own write-up and write your own code."
   ]
  },
  {
   "cell_type": "code",
   "execution_count": null,
   "metadata": {
    "colab": {},
    "colab_type": "code",
    "id": "AUYW83LqFsxd"
   },
   "outputs": [],
   "source": [
    "# This tells matplotlib not to try opening a new window for each plot.\n",
    "%matplotlib inline\n",
    "\n",
    "# General libraries.\n",
    "import re\n",
    "import numpy as np\n",
    "import matplotlib.pyplot as plt\n",
    "\n",
    "# SK-learn libraries for learning.\n",
    "from sklearn.pipeline import Pipeline\n",
    "from sklearn.neighbors import KNeighborsClassifier\n",
    "from sklearn.linear_model import LogisticRegression\n",
    "from sklearn.naive_bayes import BernoulliNB\n",
    "from sklearn.naive_bayes import MultinomialNB\n",
    "\n",
    "# SK-learn libraries for evaluation.\n",
    "from sklearn.metrics import confusion_matrix\n",
    "from sklearn import metrics\n",
    "from sklearn.metrics import classification_report\n",
    "\n",
    "# SK-learn library for importing the newsgroup data.\n",
    "from sklearn.datasets import fetch_20newsgroups\n",
    "\n",
    "# SK-learn libraries for feature extraction from text.\n",
    "from sklearn.feature_extraction.text import *\n",
    "\n",
    "import nltk\n",
    "from sklearn.metrics import f1_score\n",
    "from sklearn.model_selection import GridSearchCV\n"
   ]
  },
  {
   "cell_type": "markdown",
   "metadata": {
    "colab_type": "text",
    "id": "_ALNjGgCFsxg"
   },
   "source": [
    "Load the data, stripping out metadata so that we learn classifiers that only use textual features. By default, newsgroups data is split into train and test sets. We further split the test so we have a dev set. Note that we specify 4 categories to use for this project. If you remove the categories argument from the fetch function, you'll get all 20 categories."
   ]
  },
  {
   "cell_type": "code",
   "execution_count": null,
   "metadata": {
    "colab": {},
    "colab_type": "code",
    "id": "ecYpcoxaFsxh"
   },
   "outputs": [],
   "source": [
    "categories = ['alt.atheism', 'talk.religion.misc', 'comp.graphics', 'sci.space']\n",
    "newsgroups_train = fetch_20newsgroups(subset='train',\n",
    "                                      remove=('headers', 'footers', 'quotes'),\n",
    "                                      categories=categories)\n",
    "newsgroups_test = fetch_20newsgroups(subset='test',\n",
    "                                     remove=('headers', 'footers', 'quotes'),\n",
    "                                     categories=categories)\n",
    "\n",
    "num_test = int(len(newsgroups_test.target) / 2)\n",
    "test_data, test_labels = newsgroups_test.data[num_test:], newsgroups_test.target[num_test:]\n",
    "dev_data, dev_labels = newsgroups_test.data[:num_test], newsgroups_test.target[:num_test]\n",
    "train_data, train_labels = newsgroups_train.data, newsgroups_train.target\n",
    "\n",
    "print('training label shape:', train_labels.shape)\n",
    "print('test label shape:', test_labels.shape)\n",
    "print('dev label shape:', dev_labels.shape)\n",
    "print('labels names:', newsgroups_train.target_names)"
   ]
  },
  {
   "cell_type": "markdown",
   "metadata": {
    "colab_type": "text",
    "id": "OHTnOke6Fsxk"
   },
   "source": [
    "### Part 1:\n",
    "\n",
    "For each of the first 5 training examples, print the text of the message along with the label."
   ]
  },
  {
   "cell_type": "code",
   "execution_count": null,
   "metadata": {
    "colab": {},
    "colab_type": "code",
    "id": "X8zhA06xFsxl"
   },
   "outputs": [],
   "source": [
    "def P1(num_examples=5):\n",
    "### STUDENT START ###\n",
    "    for i in range(num_examples):\n",
    "        print(\"Training Data: \\n %s \\n\\n and Training label : %s\"% (train_data[i], train_labels[i]))  \n",
    "### STUDENT END ###\n",
    "P1()"
   ]
  },
  {
   "cell_type": "markdown",
   "metadata": {
    "colab_type": "text",
    "id": "onfno6uHFsxm"
   },
   "source": [
    "### Part 2:\n",
    "\n",
    "Use CountVectorizer to turn the raw training text into feature vectors. You should use the fit_transform function, which makes 2 passes through the data: first it computes the vocabulary (\"fit\"), second it converts the raw text into feature vectors using the vocabulary (\"transform\").\n",
    "\n",
    "The vectorizer has a lot of options. To get familiar with some of them, write code to answer these questions:\n",
    "\n",
    "a. The output of the transform (also of fit_transform) is a sparse matrix: http://docs.scipy.org/doc/scipy-0.14.0/reference/generated/scipy.sparse.csr_matrix.html. What is the size of the vocabulary? What is the average number of non-zero features per example? What fraction of the entries in the matrix are non-zero? Hint: use \"nnz\" and \"shape\" attributes.\n",
    "\n",
    "b. What are the 0th and last feature strings (in alphabetical order)? Hint: use the vectorizer's get_feature_names function.\n",
    "\n",
    "c. Specify your own vocabulary with 4 words: [\"atheism\", \"graphics\", \"space\", \"religion\"]. Confirm the training vectors are appropriately shaped. Now what's the average number of non-zero features per example?\n",
    "\n",
    "d. Instead of extracting unigram word features, use \"analyzer\" and \"ngram_range\" to extract bigram and trigram character features. What size vocabulary does this yield?\n",
    "\n",
    "e. Use the \"min_df\" argument to prune words that appear in fewer than 10 documents. What size vocabulary does this yield?\n",
    "\n",
    "f. Using the standard CountVectorizer, what fraction of the words in the dev data are missing from the vocabulary? Hint: build a vocabulary for both train and dev and look at the size of the difference."
   ]
  },
  {
   "cell_type": "code",
   "execution_count": null,
   "metadata": {
    "colab": {},
    "colab_type": "code",
    "id": "LyVwk5RvFsxn"
   },
   "outputs": [],
   "source": [
    "from sklearn.feature_extraction.text import CountVectorizer\n",
    "def P2():\n",
    "    ### STUDENT START ###\n",
    "    # create the transform\n",
    "    vectorizer = CountVectorizer()\n",
    "    # tokenize and build vocab\n",
    "    vector = vectorizer.fit_transform(dev_data)\n",
    "    #size of vocabulary\n",
    "    print('******Size of vocabulary is %i' %len(vectorizer.vocabulary_))\n",
    "    s=0\n",
    "    # avg non zero features per example\n",
    "    v=vector.toarray()\n",
    "    for i in range (len(v)):\n",
    "        for j in range(len(v[i])):\n",
    "            if v[i][j]>0:\n",
    "                s+=v[i][j]\n",
    "    avg = s/len(v)\n",
    "    percent = s/(len(v[1])*len(v))\n",
    "    print('******Average non-zero features per example are %f' %avg)\n",
    "    print('******Percent of non-zero features per example are %f' %percent)\n",
    "    #zero and last feature name sorted alphabetically\n",
    "    arr=vectorizer.get_feature_names()\n",
    "    arr.sort()\n",
    "    print('*******0th and last feature name printed alphabetically**********')\n",
    "    print(arr[0], arr[-1])\n",
    "    #build vocabulary\n",
    "    vectorizer = CountVectorizer(vocabulary = {'atheism','graphics','space','religion'})\n",
    "    vector = vectorizer.fit_transform(dev_data)\n",
    "        #size of vocabulary\n",
    "    print('****After fixed vocabulary of 4 words******')\n",
    "    print('Shape of training vector', vector.shape)\n",
    "    v=vector.toarray()\n",
    "    s=0\n",
    "    for i in range (len(v)):\n",
    "            for j in range(len(v[i])):\n",
    "                if v[i][j]>0:\n",
    "                    s+=v[i][j]\n",
    "    avg = s/len(v)\n",
    "\n",
    "    print('Average non-zero features per example are %f' %avg)\n",
    "    vectorizer = CountVectorizer(analyzer='char', ngram_range=(2, 3))\n",
    "    vector = vectorizer.fit_transform(dev_data)\n",
    "    print('*****Vocabulary length using bigram and trigram character features****')\n",
    "    print(len(vectorizer.vocabulary_))\n",
    "    vectorizer = CountVectorizer(min_df = 10)\n",
    "    vector = vectorizer.fit_transform(dev_data)\n",
    "    print('*****Vocabulary length using min_df****')\n",
    "    print(len(vectorizer.vocabulary_))\n",
    "    vectorizer = CountVectorizer()\n",
    "    vector = vectorizer.fit_transform(train_data)\n",
    "    print('*****Difference between dev and test data vocab****')\n",
    "    a = len(vectorizer.vocabulary_)\n",
    "    vectorizer = CountVectorizer()\n",
    "    vec = vectorizer.fit_transform(dev_data)\n",
    "    b = len(vectorizer.vocabulary_)\n",
    "    print(a-b)\n",
    "    ### STUDENT END ###\n",
    "P2()"
   ]
  },
  {
   "cell_type": "markdown",
   "metadata": {
    "colab_type": "text",
    "id": "ydjkRh6LFsxp"
   },
   "source": [
    "### Part 3:\n",
    "\n",
    "Use the default CountVectorizer options and report the f1 score (use metrics.f1_score with average=\"weighted\") for a k nearest neighbors classifier; find the optimal value for k. Also fit a Multinomial Naive Bayes model and find the optimal value for alpha. Finally, fit a logistic regression model and find the optimal value for the regularization strength C using l2 regularization. A few questions:\n",
    "\n",
    "* Why doesn't nearest neighbors work well for this problem?\n",
    "* Any ideas why logistic regression doesn't work as well as Naive Bayes?\n",
    "* Logistic regression estimates a weight vector for each class, which you can access with the coef\\_ attribute. Output the sum of the squared weight values for each class for each setting of the C parameter. Briefly explain the relationship between the sum and the value of C."
   ]
  },
  {
   "cell_type": "code",
   "execution_count": null,
   "metadata": {
    "colab": {},
    "colab_type": "code",
    "id": "VvhpODdWFsxp"
   },
   "outputs": [],
   "source": [
    "from sklearn.utils.testing import ignore_warnings\n",
    "from sklearn.exceptions import ConvergenceWarning\n",
    "\n",
    "def knn(v, dev_labels):\n",
    "    k = {'n_neighbors': [1,3,5]}\n",
    "    knn = KNeighborsClassifier()\n",
    "    grid = GridSearchCV(estimator=knn, param_grid=k)\n",
    "    grid.fit(v,dev_labels)\n",
    "    best_k = grid.best_params_\n",
    "    print('********knn model*********')\n",
    "    print('Best k parameter is: ', best_k)\n",
    "    knn_tuned = KNeighborsClassifier(n_neighbors = 5).fit(v,dev_labels)\n",
    "    predict_labels = knn_tuned.predict(v)\n",
    "    f1 = f1_score(predict_labels,dev_labels, average=\"weighted\") \n",
    "    print('f1 score: %f  '%f1)\n",
    "\n",
    "def multinom(v, dev_labels):\n",
    "    alphas = {'alpha': [1.0e-10, 0.0001, 0.001, 0.01, 0.1]}\n",
    "    clf = MultinomialNB()\n",
    "    grid = GridSearchCV(estimator=clf, param_grid=alphas)\n",
    "    grid.fit(v,dev_labels)\n",
    "    best_alpha = grid.best_params_\n",
    "    print('********Multinomial model*********')\n",
    "    print('Best alpha parameter is: ', best_alpha)\n",
    "    clf = MultinomialNB(alpha = .001).fit(v,dev_labels)\n",
    "    predict_labels = clf.predict(v)\n",
    "    f1 = f1_score(predict_labels,dev_labels, average=\"weighted\") \n",
    "    print('f1 score: %f  '%f1)\n",
    "@ignore_warnings(category=ConvergenceWarning)\n",
    "def logregr(v, dev_labels):\n",
    "    c_space = np.logspace(3, 8, 3)\n",
    "    param_grid = {'C': c_space, 'penalty': ['l2']}\n",
    "    lr = LogisticRegression()\n",
    "    grid = GridSearchCV(lr, param_grid, cv = 3)\n",
    "    grid.fit(v,dev_labels)\n",
    "    best_C = grid.best_params_\n",
    "    print('********Logistic regression model*********')\n",
    "    lr = LogisticRegression(penalty='l2').fit(v, dev_labels)\n",
    "    predict_labels = lr.predict(v)\n",
    "    f1 = f1_score(predict_labels,dev_labels, average=\"weighted\") \n",
    "    print('Best C parameter is: ', best_C)\n",
    "    print('f1 score: %f  '%f1)\n",
    "\n",
    "def P3():\n",
    "### STUDENT START ###\n",
    "    vectorizer = CountVectorizer()\n",
    "    v = vectorizer.fit_transform(dev_data)\n",
    "    knn(v, dev_labels)\n",
    "    multinom(v, dev_labels)\n",
    "    logregr(v, dev_labels)\n",
    "### STUDENT END ###\n",
    "P3()"
   ]
  },
  {
   "cell_type": "markdown",
   "metadata": {
    "colab_type": "text",
    "id": "jWtXwAlOFsxr"
   },
   "source": [
    "ANSWER: \n",
    "Why doesn't nearest neighbors work well for this problem? \n",
    "Since our model is based on entire vocabulary and most words are not correlated strongly with output labels, nearest neighbors is not accurate. \n",
    "\n",
    "Any ideas why logistic regression doesn't work as well as Naive Bayes?\n",
    "Logistic regression works better than Naive Bayes in this case.\n",
    "\n",
    "Logistic regression estimates a weight vector for each class, which you can access with the coef_ attribute. Output the sum of the squared weight values for each class for each setting of the C parameter. Briefly explain the relationship between the sum and the value of C.\n",
    "The sum of squared weights will increase as weights(beta coefficients) increase since l2 regularization parameter penalizes complexity"
   ]
  },
  {
   "cell_type": "markdown",
   "metadata": {
    "colab_type": "text",
    "id": "dGEjsm_uFsxr"
   },
   "source": [
    "### Part 4:\n",
    "\n",
    "Train a logistic regression model. Find the 5 features with the largest weights for each label -- 20 features in total. Create a table with 20 rows and 4 columns that shows the weight for each of these features for each of the labels. Create the table again with bigram features. Any surprising features in this table?"
   ]
  },
  {
   "cell_type": "code",
   "execution_count": null,
   "metadata": {
    "colab": {},
    "colab_type": "code",
    "id": "WN51Nv4fFsxs"
   },
   "outputs": [],
   "source": [
    "from sklearn.utils.testing import ignore_warnings\n",
    "from sklearn.exceptions import ConvergenceWarning\n",
    "import pandas as pd\n",
    "@ignore_warnings(category=ConvergenceWarning)\n",
    "def logregr(v, labels, feat):\n",
    "    lr = LogisticRegression().fit(v, labels)\n",
    "    cols = []\n",
    "    f=[]\n",
    "    c=[]\n",
    "    index=[]\n",
    "    for n in range(4):\n",
    "        coef = lr.coef_[n].tolist()\n",
    "        c = (sorted([[x,feat[i],i] for (i,x) in enumerate(coef)], reverse=True )[:5])\n",
    "        for j in range(len(c)):\n",
    "            f.append(c[j][1])\n",
    "            index.append(c[j][2])\n",
    "        cols.append(n) \n",
    "    coef_table = pd.DataFrame(columns = cols, index = f)\n",
    "    for x in (cols):\n",
    "        coef = lr.coef_[x].tolist()\n",
    "        lab=[]\n",
    "        for i in index:\n",
    "            lab.append(coef[i]) \n",
    "        coef_table[x] = lab\n",
    "\n",
    "            \n",
    "    print(coef_table)\n",
    "def P4():\n",
    "### STUDENT START ###\n",
    "    vectorizer = CountVectorizer()\n",
    "    vector = vectorizer.fit_transform(dev_data)\n",
    "    v = vector.toarray()\n",
    "    logregr(v, dev_labels, vectorizer.get_feature_names())\n",
    "    #Using bigrams\n",
    "    print('******Using bigrams******')\n",
    "    vectorizer = CountVectorizer(analyzer='word', ngram_range=(2, 2))\n",
    "    vector = vectorizer.fit_transform(dev_data)\n",
    "    v = vector.toarray()\n",
    "    logregr(v, dev_labels, vectorizer.get_feature_names())\n",
    "### STUDENT END ###\n",
    "P4()"
   ]
  },
  {
   "cell_type": "markdown",
   "metadata": {
    "colab_type": "text",
    "id": "cY67F-tXFsxt"
   },
   "source": [
    "ANSWER: There are some interesting features that appear with high weights in both unigram and bigram features. \n",
    "Examples are  atheist, an atheist for atheism label\n",
    "              religion, spam, religion spam for religion label "
   ]
  },
  {
   "cell_type": "code",
   "execution_count": null,
   "metadata": {},
   "outputs": [],
   "source": [
    "newsgroups_test.target_names"
   ]
  },
  {
   "cell_type": "markdown",
   "metadata": {},
   "source": [
    "### Part 5:\n",
    "\n",
    "Try to improve the logistic regression classifier by passing a custom preprocessor to CountVectorizer. The preprocessing function runs on the raw text, before it is split into words by the tokenizer. Your preprocessor should try to normalize the input in various ways to improve generalization. For example, try lowercasing everything, replacing sequences of numbers with a single token, removing various other non-letter characters, and shortening long words. If you're not already familiar with regular expressions for manipulating strings, see https://docs.python.org/2/library/re.html, and re.sub() in particular. With your new preprocessor, how much did you reduce the size of the dictionary?\n",
    "\n",
    "For reference, I was able to improve dev F1 by 2 points."
   ]
  },
  {
   "cell_type": "code",
   "execution_count": null,
   "metadata": {
    "colab": {},
    "colab_type": "code",
    "id": "l7gS3cGpFsxv",
    "scrolled": true
   },
   "outputs": [],
   "source": [
    "from sklearn.utils.testing import ignore_warnings\n",
    "from sklearn.exceptions import ConvergenceWarning\n",
    "from nltk import word_tokenize\n",
    "def empty_preprocessor(s):\n",
    "    return s\n",
    "#trucate each word upto 5 characters\n",
    "def word_trim(d):\n",
    "    d=[]\n",
    "    for i in range(len(dev_data)):\n",
    "        t=''\n",
    "        word=word_tokenize(dev_data[i])\n",
    "        for w in word:\n",
    "            t= t+ w[:5]+' '\n",
    "        d.append(t)\n",
    "    return(d)\n",
    "def better_preprocessor(l):\n",
    "### STUDENT START ###\n",
    "    #lowe case\n",
    "    l = l.lower()\n",
    "    #replace all numbers with single token\n",
    "    l = re.sub('[0-9]+','x',l)\n",
    "    #removing non letter characters\n",
    "    l = re.sub('[^a-zA-Z]',' ',l)\n",
    "    return(l)\n",
    "### STUDENT END ###\n",
    "@ignore_warnings(category=ConvergenceWarning)\n",
    "def P5():\n",
    "### STUDENT START ###\n",
    "    #data = better_preprocessor(dev_data)\n",
    "    vectorizer = CountVectorizer()\n",
    "    v = vectorizer.fit_transform(dev_data)\n",
    "    print('***Before pre-processing*****')\n",
    "    print('Size of dictionary ', len(vectorizer.vocabulary_))\n",
    "    lr=LogisticRegression()\n",
    "    pred = lr.fit(v, dev_labels).predict(v)\n",
    "    print(f1_score(dev_labels, pred, average = \"weighted\"))\n",
    "    print('***After pre-processing*****')\n",
    "    d=word_trim(dev_data)\n",
    "    vectorizer = CountVectorizer(preprocessor = better_preprocessor)\n",
    "    v = vectorizer.fit_transform(d)\n",
    "    print('Size of dictionary ', len(vectorizer.vocabulary_))\n",
    "    lr=LogisticRegression()\n",
    "    pred = lr.fit(v, dev_labels).predict(v)\n",
    "    print(f1_score(dev_labels, pred, average = \"weighted\")) \n",
    "    \n",
    "### STUDENT END ###\n",
    "P5()"
   ]
  },
  {
   "cell_type": "markdown",
   "metadata": {
    "colab_type": "text",
    "id": "Uy-WITbNFsxw"
   },
   "source": [
    "### Part 6:\n",
    "\n",
    "The idea of regularization is to avoid learning very large weights (which are likely to fit the training data, but not generalize well) by adding a penalty to the total size of the learned weights. That is, logistic regression seeks the set of weights that minimizes errors in the training data AND has a small size. The default regularization, L2, computes this size as the sum of the squared weights (see P3, above). L1 regularization computes this size as the sum of the absolute values of the weights. The result is that whereas L2 regularization makes all the weights relatively small, L1 regularization drives lots of the weights to 0, effectively removing unimportant features.\n",
    "\n",
    "Train a logistic regression model using a \"l1\" penalty. Output the number of learned weights that are not equal to zero. How does this compare to the number of non-zero weights you get with \"l2\"? Now, reduce the size of the vocabulary by keeping only those features that have at least one non-zero weight and retrain a model using \"l2\".\n",
    "\n",
    "Make a plot showing accuracy of the re-trained model vs. the vocabulary size you get when pruning unused features by adjusting the C parameter.\n",
    "\n",
    "Note: The gradient descent code that trains the logistic regression model sometimes has trouble converging with extreme settings of the C parameter. Relax the convergence criteria by setting tol=.015 (the default is .0001)."
   ]
  },
  {
   "cell_type": "code",
   "execution_count": null,
   "metadata": {
    "colab": {},
    "colab_type": "code",
    "id": "l6ho31SrFsxx"
   },
   "outputs": [],
   "source": [
    "from sklearn.utils.testing import ignore_warnings\n",
    "from sklearn.exceptions import ConvergenceWarning\n",
    "from sklearn.metrics import accuracy_score\n",
    "import matplotlib.pyplot as plt\n",
    "@ignore_warnings(category=ConvergenceWarning)\n",
    "def P6():\n",
    "    ### STUDENT START ###\n",
    "    vectorizer = CountVectorizer()\n",
    "    v = vectorizer.fit_transform(dev_data)\n",
    "    print('Original vocabulary count: ', len(vectorizer.vocabulary_))\n",
    "    vocab_counts=[]\n",
    "    scores = []\n",
    "    lr=LogisticRegression(penalty = \"l1\",solver='liblinear',tol=.015).fit(v,dev_labels)\n",
    "    vocab=[]\n",
    "    #This section prints weights for each label that are not zero for L1 regularization\n",
    "    print('*********L1 regularization***********')\n",
    "    count=np.zeros(shape = (4,1))\n",
    "    for i in range(4):\n",
    "            count[i]=0\n",
    "            for j in range(len(lr.coef_[i,:])):\n",
    "                if lr.coef_[i,j]!=0:\n",
    "                    count[i]+=1 \n",
    "                    for key, value in vectorizer.vocabulary_.items():\n",
    "                        if value ==j and key not in vocab:\n",
    "                            vocab.append(key)\n",
    "    print('Count of non-zero weights: ', count)\n",
    "    print('***********L2 regularization**************')\n",
    "    lr=LogisticRegression(penalty = \"l2\", tol=.015).fit(v,dev_labels)\n",
    "    dev=vectorizer.transform(dev_data)\n",
    "    pred = lr.predict(dev)\n",
    "    scores.append(accuracy_score(pred,dev_labels))\n",
    "    vocab_counts.append(len(vectorizer.vocabulary_))\n",
    "    count=np.zeros(shape = (4,1))\n",
    "    for i in range(4):\n",
    "            count[i]=0\n",
    "            for j in range(len(lr.coef_[i,:])):\n",
    "                if lr.coef_[i,j]!=0:\n",
    "                    count[i]+=1 \n",
    "    print('Count of non-zero weights: ', count)\n",
    "    print('******Retrained model score*********')\n",
    "    vectorizer = CountVectorizer(vocabulary = vocab)\n",
    "    v = vectorizer.fit_transform(dev_data)\n",
    "    lr=LogisticRegression(penalty = \"l2\", tol=.015).fit(v,dev_labels)\n",
    "    dev=vectorizer.transform(dev_data)\n",
    "    pred = lr.predict(dev)\n",
    "    scores.append(accuracy_score(pred,dev_labels))\n",
    "    vocab_counts.append(len(vocab))\n",
    "    print('Vocabulary size: ', len(vocab))\n",
    "    print('Prediction score:', accuracy_score(pred,dev_labels))\n",
    "    plt.scatter(vocab_counts, scores)\n",
    "    plt.title('Vocabulary counts vs accuracy scores')\n",
    "    plt.xlabel = 'Vocabulary counts'\n",
    "    plt.ylabel= 'Accuracy scores'\n",
    "    plt.plot(vocab_counts, scores, color='red') \n",
    "    ### STUDENT END ###\n",
    "\n",
    "P6()"
   ]
  },
  {
   "cell_type": "code",
   "execution_count": null,
   "metadata": {},
   "outputs": [],
   "source": [
    "ANSWER: With L1 regularization there are far fewer non zero weights compared to L2 regularization where all weights are non zero\n",
    "        The L1 regularization trimmed the vocabulary by a large number but did not increase the model accuracy"
   ]
  },
  {
   "cell_type": "markdown",
   "metadata": {
    "colab_type": "text",
    "id": "QmrHf8AMFsxz"
   },
   "source": [
    "### Part 7:\n",
    "\n",
    "Use the TfidfVectorizer -- how is this different from the CountVectorizer? Train a logistic regression model with C=100.\n",
    "\n",
    "Make predictions on the dev data and show the top 3 documents where the ratio R is largest, where R is:\n",
    "\n",
    "maximum predicted probability / predicted probability of the correct label\n",
    "\n",
    "What kinds of mistakes is the model making? Suggest a way to address one particular issue that you see."
   ]
  },
  {
   "cell_type": "code",
   "execution_count": null,
   "metadata": {
    "colab": {},
    "colab_type": "code",
    "id": "8vwU_9t2Fsx0"
   },
   "outputs": [],
   "source": [
    "from sklearn.utils.testing import ignore_warnings\n",
    "from sklearn.exceptions import ConvergenceWarning\n",
    "from sklearn.metrics import accuracy_score\n",
    "@ignore_warnings(category=ConvergenceWarning)\n",
    "def P7():\n",
    "### STUDENT START ###\n",
    "#tfidvectorizer \n",
    "    vectorizer = TfidfVectorizer()\n",
    "    v = vectorizer.fit_transform(dev_data, dev_labels)\n",
    "    test = vectorizer.transform(test_data)\n",
    "    arr=[]\n",
    "#training logistic regression model with C=100\n",
    "    lr = LogisticRegression(penalty='l2', C = 100)\n",
    "    lr.fit(v, dev_labels)\n",
    "    pred = lr.predict(test)\n",
    "#showing ratio R\n",
    "    for i in range(len(test_labels)):\n",
    "        ratioR = max(lr.predict_proba(test)[i,:])/lr.predict_proba(test)[i,test_labels[i]]\n",
    "        arr.append(ratioR)\n",
    "    x=0\n",
    "#Printing documents with the three largest values of R\n",
    "    for x in range(3):\n",
    "        i = arr.index(max(arr))\n",
    "        print('\\n\\n\\nDoc: ', dev_data[i])\n",
    "        print('\\nPredicted category: %i' %pred[i])\n",
    "        print('\\nActual category: %i' %test_labels[i])\n",
    "        print('\\n Max 5 feature weights: ')\n",
    "        feat_weight = v.toarray()[i]*lr.coef_[pred[i]].tolist()\n",
    "        f=vectorizer.get_feature_names()\n",
    "        c=(sorted([[x,j,f[j]] for (j,x) in enumerate(feat_weight)], reverse=True)[:5])\n",
    "        for x in range(len(c)):\n",
    "            print(c[x][2])\n",
    "        arr.pop(i)\n",
    "\n",
    "## STUDENT END ###\n",
    "P7()"
   ]
  },
  {
   "cell_type": "markdown",
   "metadata": {
    "colab_type": "text",
    "id": "bZmIPwExFsx1"
   },
   "source": [
    "ANSWER: CountVectorizer counts the frequencies of words in corpus.TfidfVectorizer does the same thing but it normalizes the count.\n",
    "There are a few problems with the wrong predictions above\n",
    "First, for the three wrong examples, the top five features don't seem to be the correct fit for the actual label.\n",
    "Second, the model is giving all words equal weight instead of giving more weight to certain important words by labels. For example in the first doc with highest R value, the predicted category is atheism but the actual category is space. This could be because there are more words in the corpus that are related to space. This is evident in the features with the maximum feature weights. \n",
    "Third problem could be that the model just uses unigrams. Using bigrams or trigrams may be more effective."
   ]
  },
  {
   "cell_type": "raw",
   "metadata": {
    "colab_type": "text",
    "id": "VmsDxtzoFsx1"
   },
   "source": [
    "### Part 8 EXTRA CREDIT:\n",
    "\n",
    "Try implementing one of your ideas based on your error analysis. Use logistic regression as your underlying model."
   ]
  }
 ],
 "metadata": {
  "colab": {
   "collapsed_sections": [],
   "name": "firstname_lastname_p2.ipynb",
   "private_outputs": true,
   "provenance": [
    {
     "file_id": "https://github.com/MIDS-W207/Master/blob/master/Projects/firstname_lastname_p2.ipynb",
     "timestamp": 1559779272103
    }
   ],
   "version": "0.3.2"
  },
  "kernelspec": {
   "display_name": "Python 3",
   "language": "python",
   "name": "python3"
  },
  "language_info": {
   "codemirror_mode": {
    "name": "ipython",
    "version": 3
   },
   "file_extension": ".py",
   "mimetype": "text/x-python",
   "name": "python",
   "nbconvert_exporter": "python",
   "pygments_lexer": "ipython3",
   "version": "3.7.1"
  },
  "toc": {
   "base_numbering": 1,
   "nav_menu": {},
   "number_sections": false,
   "sideBar": true,
   "skip_h1_title": true,
   "title_cell": "Table of Contents",
   "title_sidebar": "Contents",
   "toc_cell": false,
   "toc_position": {},
   "toc_section_display": true,
   "toc_window_display": false
  }
 },
 "nbformat": 4,
 "nbformat_minor": 1
}
